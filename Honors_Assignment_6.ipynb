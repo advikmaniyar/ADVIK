{
 "cells": [
  {
   "cell_type": "markdown",
   "metadata": {
    "id": "31deaceb"
   },
   "source": [
    "Name: Advik Maniyar <br>\n",
    "Roll: 42244"
   ]
  },
  {
   "cell_type": "code",
   "execution_count": null,
   "metadata": {
    "id": "cfd47e66"
   },
   "outputs": [],
   "source": [
    "import nltk"
   ]
  },
  {
   "cell_type": "markdown",
   "metadata": {
    "id": "0fdbb543"
   },
   "source": [
    "### We will use the corpus nlkt.corpus.movie_reviews as our data."
   ]
  },
  {
   "cell_type": "code",
   "execution_count": null,
   "metadata": {
    "id": "76cbee08",
    "outputId": "bc612554-24c0-4433-8eae-5104c29fc25b"
   },
   "outputs": [
    {
     "name": "stderr",
     "output_type": "stream",
     "text": [
      "[nltk_data] Downloading package movie_reviews to\n",
      "[nltk_data]     /home/neil/nltk_data...\n",
      "[nltk_data]   Unzipping corpora/movie_reviews.zip.\n"
     ]
    },
    {
     "data": {
      "text/plain": [
       "True"
      ]
     },
     "execution_count": 5,
     "metadata": {},
     "output_type": "execute_result"
    }
   ],
   "source": [
    "nltk.download('movie_reviews')"
   ]
  },
  {
   "cell_type": "code",
   "execution_count": null,
   "metadata": {
    "id": "d14b02ae",
    "outputId": "536b824e-1f85-4afa-8aa1-506f3fed7b13"
   },
   "outputs": [
    {
     "name": "stdout",
     "output_type": "stream",
     "text": [
      "2000\n",
      "['neg', 'pos']\n",
      "['plot', ':', 'two', 'teen', 'couples', 'go', 'to', ...]\n",
      "['neg/cv000_29416.txt', 'neg/cv001_19502.txt', 'neg/cv002_17424.txt', 'neg/cv003_12683.txt', 'neg/cv004_12641.txt', 'neg/cv005_29357.txt', 'neg/cv006_17022.txt', 'neg/cv007_4992.txt', 'neg/cv008_29326.txt', 'neg/cv009_29417.txt']\n"
     ]
    }
   ],
   "source": [
    "print(len(movie_reviews.fileids()))\n",
    "print(movie_reviews.categories())\n",
    "print(movie_reviews.words()[:100])\n",
    "print(movie_reviews.fileids()[:10])"
   ]
  },
  {
   "cell_type": "markdown",
   "metadata": {
    "id": "7fefe7de"
   },
   "source": [
    "### Rearrange the corpus data as a list of tuple, where the first element is the word tokens of the documents, and the second element is the label of the documents (i.e., sentiment labels)."
   ]
  },
  {
   "cell_type": "code",
   "execution_count": null,
   "metadata": {
    "id": "0777129b"
   },
   "outputs": [],
   "source": [
    "documents = [(list(movie_reviews.words(fileid)), category) for category in movie_reviews.categories() for fileid in movie_reviews.fileids(category)]"
   ]
  },
  {
   "cell_type": "code",
   "execution_count": null,
   "metadata": {
    "id": "5fc0de78",
    "outputId": "5e4d3a4b-38f9-497b-b17f-6cfab597cc5d"
   },
   "outputs": [
    {
     "name": "stdout",
     "output_type": "stream",
     "text": [
      "Number of Reviews/Documents: 2000\n",
      "Corpus Size (words): 1583820\n",
      "\n",
      "\n",
      "Sample Text of Doc 1:\n",
      "\n",
      "\n",
      "plot : two teen couples go to a church party , drink and then drive . they get into an accident . one of the guys dies , but his girlfriend continues to see him in her life , and has nightmares . what ' s the deal ? watch\n"
     ]
    }
   ],
   "source": [
    "print('Number of Reviews/Documents: {}'.format(len(documents)))\n",
    "print('Corpus Size (words): {}'.format(np.sum([len(d) for (d,l) in documents])))\n",
    "print('\\n\\nSample Text of Doc 1:\\n\\n')\n",
    "print(' '.join(documents[0][0][:50])) # first 50 words of the first document"
   ]
  },
  {
   "cell_type": "markdown",
   "metadata": {
    "id": "043e8195"
   },
   "source": [
    "### We split the entire dataset into two parts: training set and testing set."
   ]
  },
  {
   "cell_type": "code",
   "execution_count": null,
   "metadata": {
    "id": "424c5a9f"
   },
   "outputs": [],
   "source": [
    "from sklearn.model_selection import train_test_split\n",
    "\n",
    "train, test = train_test_split(documents, test_size = 0.3, random_state=42)"
   ]
  },
  {
   "cell_type": "markdown",
   "metadata": {
    "id": "52a63d2d"
   },
   "source": [
    "### In the train-test split, make sure the the distribution of the classes is proportional."
   ]
  },
  {
   "cell_type": "code",
   "execution_count": null,
   "metadata": {
    "id": "0cafe6d6",
    "outputId": "90a348b8-b8d4-4633-d843-773e3fb25b4b"
   },
   "outputs": [
    {
     "name": "stdout",
     "output_type": "stream",
     "text": [
      "Counter({'neg': 1000, 'pos': 1000})\n"
     ]
    }
   ],
   "source": [
    "## Check Sentiment Distribution of the Current Dataset\n",
    "\n",
    "from collections import Counter\n",
    "\n",
    "sentiment_distr = Counter([label for (words, label) in documents])\n",
    "print(sentiment_distr)"
   ]
  },
  {
   "cell_type": "code",
   "execution_count": null,
   "metadata": {
    "id": "93c1809d"
   },
   "outputs": [],
   "source": [
    "X_train = [' '.join(words) for (words, label) in train]\n",
    "X_test = [' '.join(words) for (words, label) in test]\n",
    "y_train = [label for (words, label) in train]\n",
    "y_test = [label for (words, label) in test]"
   ]
  },
  {
   "cell_type": "markdown",
   "metadata": {
    "id": "69351189"
   },
   "source": [
    "### In feature-based machine learning, we need to vectorize texts into feature sets (i.e., feature engineering on texts).\n",
    "\n",
    "### We use the naive bag-of-words text vectorization. In particular, we use the weighted version of BOW"
   ]
  },
  {
   "cell_type": "code",
   "execution_count": null,
   "metadata": {
    "id": "2937f11b"
   },
   "outputs": [],
   "source": [
    "from sklearn.feature_extraction.text import CountVectorizer, TfidfVectorizer\n",
    "\n",
    "tfidf_vec = TfidfVectorizer(min_df = 10, token_pattern = r'[a-zA-Z]+')\n",
    "X_train_bow = tfidf_vec.fit_transform(X_train) # fit train\n",
    "X_test_bow = tfidf_vec.transform(X_test) # transform test"
   ]
  },
  {
   "cell_type": "code",
   "execution_count": null,
   "metadata": {
    "id": "fc2e1fa4",
    "outputId": "55888d1c-366f-4fa1-9a72-30e5a305697b"
   },
   "outputs": [
    {
     "name": "stdout",
     "output_type": "stream",
     "text": [
      "(1400, 6344)\n",
      "(600, 6344)\n"
     ]
    }
   ],
   "source": [
    "print(X_train_bow.shape)\n",
    "print(X_test_bow.shape)"
   ]
  },
  {
   "cell_type": "markdown",
   "metadata": {
    "id": "39f23de3"
   },
   "source": [
    "### For our current binary sentiment classifier, we will try Logistic Regression"
   ]
  },
  {
   "cell_type": "code",
   "execution_count": null,
   "metadata": {
    "id": "a23a0485",
    "outputId": "322d3cc2-670a-43a3-ce8e-7b3739cd6c76"
   },
   "outputs": [
    {
     "data": {
      "text/plain": [
       "LogisticRegression()"
      ]
     },
     "execution_count": 19,
     "metadata": {},
     "output_type": "execute_result"
    }
   ],
   "source": [
    "from sklearn.linear_model import LogisticRegression\n",
    "\n",
    "model_lg = LogisticRegression()\n",
    "model_lg.fit(X_train_bow, y_train)"
   ]
  },
  {
   "cell_type": "code",
   "execution_count": null,
   "metadata": {
    "id": "ee4f555e",
    "outputId": "8845b073-ffe3-421d-93c4-b6857f7e1dd5"
   },
   "outputs": [
    {
     "data": {
      "text/plain": [
       "array(['pos', 'pos', 'pos', 'pos', 'pos', 'pos', 'neg', 'pos', 'neg',\n",
       "       'pos'], dtype='<U3')"
      ]
     },
     "execution_count": 22,
     "metadata": {},
     "output_type": "execute_result"
    }
   ],
   "source": [
    "model_lg.predict(X_test_bow[:10].toarray())"
   ]
  },
  {
   "cell_type": "markdown",
   "metadata": {
    "id": "3e110dad"
   },
   "source": [
    "### Evaluating our model"
   ]
  },
  {
   "cell_type": "code",
   "execution_count": null,
   "metadata": {
    "id": "cbfb110e",
    "outputId": "856d9ea2-e121-459f-bbef-4095370fc1f0"
   },
   "outputs": [
    {
     "name": "stdout",
     "output_type": "stream",
     "text": [
      "0.8183333333333334\n"
     ]
    }
   ],
   "source": [
    "#Mean Accuracy\n",
    "\n",
    "print(model_lg.score(X_test_bow, y_test))"
   ]
  },
  {
   "cell_type": "code",
   "execution_count": null,
   "metadata": {
    "id": "d277f8b5",
    "outputId": "68cf1581-93c9-4356-ccd5-7c3bea1f935e"
   },
   "outputs": [
    {
     "data": {
      "text/plain": [
       "array([0.81803005, 0.81863561])"
      ]
     },
     "execution_count": 26,
     "metadata": {},
     "output_type": "execute_result"
    }
   ],
   "source": [
    "# F1\n",
    "\n",
    "from sklearn.metrics import f1_score\n",
    "\n",
    "y_pred = model_lg.predict(X_test_bow)\n",
    "\n",
    "f1_score(y_test, y_pred, \n",
    "         average=None, \n",
    "         labels = movie_reviews.categories())"
   ]
  },
  {
   "cell_type": "code",
   "execution_count": null,
   "metadata": {
    "id": "f103b66b",
    "outputId": "df5fb6f1-2a3a-435a-9050-b238b3fcad73"
   },
   "outputs": [
    {
     "data": {
      "text/plain": [
       "<sklearn.metrics._plot.confusion_matrix.ConfusionMatrixDisplay at 0x7f3fc2b0f5b0>"
      ]
     },
     "execution_count": 28,
     "metadata": {},
     "output_type": "execute_result"
    },
    {
     "data": {
      "image/png": "[encoded data removed]",
      "text/plain": [
       "<Figure size 432x288 with 2 Axes>"
      ]
     },
     "metadata": {
      "needs_background": "light"
     },
     "output_type": "display_data"
    }
   ],
   "source": [
    "# Confusion Matrix\n",
    "\n",
    "from sklearn.metrics import plot_confusion_matrix\n",
    "\n",
    "plot_confusion_matrix(model_lg, X_test_bow.toarray(), y_test, normalize='all')"
   ]
  }
 ],
 "metadata": {
  "colab": {
   "provenance": []
  },
  "kernelspec": {
   "display_name": "Python 3",
   "language": "python",
   "name": "python3"
  },
  "language_info": {
   "codemirror_mode": {
    "name": "ipython",
    "version": 3
   },
   "file_extension": ".py",
   "mimetype": "text/x-python",
   "name": "python",
   "nbconvert_exporter": "python",
   "pygments_lexer": "ipython3",
   "version": "3.8.5"
  }
 },
 "nbformat": 4,
 "nbformat_minor": 5
}
